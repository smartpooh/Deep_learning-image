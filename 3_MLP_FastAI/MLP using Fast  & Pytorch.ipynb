{
 "cells": [
  {
   "cell_type": "markdown",
   "metadata": {},
   "source": [
    "In this notebook, we are going to build a neural network(multilayer perceptron) using FastAI v1 and Pytorch and successfully train it to recognize digits in the image. [Pytorch](https://pytorch.org/) is a very popular deep learning framework released by Facebook, and [FastAI v1](https://docs.fast.ai/) is a library which simplifies training fast and accurate neural nets using modern best practices. It's based on research into deep learning best practices undertaken at [fast.ai](https://www.fast.ai/), including \"out of the box\" support for vision, text, tabular, and collab (collaborative filtering) models. If you're looking for the source code, head over to the [fastai repo](https://github.com/fastai/fastai) on GitHub. This notebook will guide for build a neural network with this library. If you want to understand what is a Multi-layer perceptron, you can look at my [previous notebook](https://github.com/aayushmnit/Deep_learning_explorations/blob/master/1_MLP_from_scratch/Building_neural_network_from_scratch.ipynb) where I built a Multi-layer perceptron from scratch using numpy and [other notebook](https://github.com/aayushmnit/Deep_learning_explorations/blob/master/2_MLP_tensorflow/my1stNN.ipynb) where I built the same model using TensorFlow. As you will notice, the amount of code which is needed to write this notebook is way less than what's been used in previous notebooks, all thanks to fastai library which lets us focus more on solving problems than writing code.\n",
    "\n"
   ]
  },
  {
   "cell_type": "markdown",
   "metadata": {},
   "source": [
    "## BoilerPlate command"
   ]
  },
  {
   "cell_type": "markdown",
   "metadata": {},
   "source": [
    "It’s standard practice to start the notebook with the following three lines; they ensure that any edits to libraries you make are reloaded here automatically, and also that any charts or images displayed are shown in this notebook.\n",
    "\n"
   ]
  },
  {
   "cell_type": "code",
   "execution_count": 1,
   "metadata": {
    "ExecuteTime": {
     "end_time": "2019-01-06T05:09:32.818719Z",
     "start_time": "2019-01-06T05:09:31.261176Z"
    }
   },
   "outputs": [],
   "source": [
    "%reload_ext autoreload\n",
    "%autoreload 2\n",
    "%matplotlib inline"
   ]
  },
  {
   "cell_type": "markdown",
   "metadata": {},
   "source": [
    "## Importing Fast AI library"
   ]
  },
  {
   "cell_type": "markdown",
   "metadata": {},
   "source": [
    "Let’s import fastai library and define our batch_size parameter to 128. Usually, image databases are enormous, so we need to feed these images into a GPU using batches, batch size 128 means that we will feed 128 images at once to update parameters of our deep learning model. If you are running out of memory because of smaller GPU RAM, you can reduce batch size to 64 or 32."
   ]
  },
  {
   "cell_type": "code",
   "execution_count": 2,
   "metadata": {
    "ExecuteTime": {
     "end_time": "2019-01-06T05:09:47.458296Z",
     "start_time": "2019-01-06T05:09:32.822583Z"
    }
   },
   "outputs": [],
   "source": [
    "from fastai.vision import *\n",
    "bs=128"
   ]
  },
  {
   "cell_type": "markdown",
   "metadata": {},
   "source": [
    "## Downloading Dataset"
   ]
  },
  {
   "cell_type": "markdown",
   "metadata": {},
   "source": [
    "We will start by downloading MNIST handwritten dataset from [fastai dataset](https://course.fast.ai/datasets) page. MNIST is a standard dataset of small (28x28) handwritten grayscale digits, developed in the 1990s for testing the most sophisticated models of the day; today, often used as a basic “hello world” for introducing deep learning. This fast.ai datasets version uses a standard PNG format instead of the special binary format of the original so that you can use the regular data pipelines in most libraries; if you want to use just a single input channel like the original, simply pick a single slice from the channels axis."
   ]
  },
  {
   "cell_type": "code",
   "execution_count": 3,
   "metadata": {
    "ExecuteTime": {
     "end_time": "2019-01-06T05:09:47.583385Z",
     "start_time": "2019-01-06T05:09:47.462063Z"
    }
   },
   "outputs": [
    {
     "data": {
      "text/plain": [
       "PosixPath('/home/jupyter/.fastai/data/mnist_png')"
      ]
     },
     "execution_count": 3,
     "metadata": {},
     "output_type": "execute_result"
    }
   ],
   "source": [
    "path = untar_data(URLs.MNIST);\n",
    "path"
   ]
  },
  {
   "cell_type": "markdown",
   "metadata": {},
   "source": [
    "By running the above command, the data is downloaded and stored in the path shown above. Let's look at how the data directory is set up as we have to import data from these directories. Let's start by looking at path directory, and we can see below that our data already have training and testing folder."
   ]
  },
  {
   "cell_type": "code",
   "execution_count": 4,
   "metadata": {
    "ExecuteTime": {
     "end_time": "2019-01-06T05:09:47.648903Z",
     "start_time": "2019-01-06T05:09:47.595560Z"
    }
   },
   "outputs": [
    {
     "data": {
      "text/plain": [
       "[PosixPath('/home/jupyter/.fastai/data/mnist_png/testing'),\n",
       " PosixPath('/home/jupyter/.fastai/data/mnist_png/models'),\n",
       " PosixPath('/home/jupyter/.fastai/data/mnist_png/training')]"
      ]
     },
     "execution_count": 4,
     "metadata": {},
     "output_type": "execute_result"
    }
   ],
   "source": [
    "path.ls()"
   ]
  },
  {
   "cell_type": "markdown",
   "metadata": {},
   "source": [
    "Let's look inside the training folder. Data is split by digits 1 to 9 in a different folder."
   ]
  },
  {
   "cell_type": "code",
   "execution_count": 5,
   "metadata": {
    "ExecuteTime": {
     "end_time": "2019-01-06T05:09:47.730040Z",
     "start_time": "2019-01-06T05:09:47.651642Z"
    }
   },
   "outputs": [
    {
     "data": {
      "text/plain": [
       "[PosixPath('/home/jupyter/.fastai/data/mnist_png/training/9'),\n",
       " PosixPath('/home/jupyter/.fastai/data/mnist_png/training/8'),\n",
       " PosixPath('/home/jupyter/.fastai/data/mnist_png/training/5'),\n",
       " PosixPath('/home/jupyter/.fastai/data/mnist_png/training/3'),\n",
       " PosixPath('/home/jupyter/.fastai/data/mnist_png/training/0'),\n",
       " PosixPath('/home/jupyter/.fastai/data/mnist_png/training/4'),\n",
       " PosixPath('/home/jupyter/.fastai/data/mnist_png/training/6'),\n",
       " PosixPath('/home/jupyter/.fastai/data/mnist_png/training/2'),\n",
       " PosixPath('/home/jupyter/.fastai/data/mnist_png/training/7'),\n",
       " PosixPath('/home/jupyter/.fastai/data/mnist_png/training/1')]"
      ]
     },
     "execution_count": 5,
     "metadata": {},
     "output_type": "execute_result"
    }
   ],
   "source": [
    "(path/'training').ls()"
   ]
  },
  {
   "cell_type": "markdown",
   "metadata": {
    "ExecuteTime": {
     "end_time": "2019-01-05T21:30:47.870172Z",
     "start_time": "2019-01-05T21:30:47.663154Z"
    }
   },
   "source": [
    "Within each digit folder, we have images."
   ]
  },
  {
   "cell_type": "code",
   "execution_count": 6,
   "metadata": {
    "ExecuteTime": {
     "end_time": "2019-01-06T05:09:47.861829Z",
     "start_time": "2019-01-06T05:09:47.732400Z"
    }
   },
   "outputs": [
    {
     "data": {
      "text/plain": [
       "[PosixPath('/home/jupyter/.fastai/data/mnist_png/training/0/38211.png'),\n",
       " PosixPath('/home/jupyter/.fastai/data/mnist_png/training/0/47616.png'),\n",
       " PosixPath('/home/jupyter/.fastai/data/mnist_png/training/0/30992.png'),\n",
       " PosixPath('/home/jupyter/.fastai/data/mnist_png/training/0/39788.png')]"
      ]
     },
     "execution_count": 6,
     "metadata": {},
     "output_type": "execute_result"
    }
   ],
   "source": [
    "(path/'training/0').ls()[1:5]"
   ]
  },
  {
   "cell_type": "markdown",
   "metadata": {},
   "source": [
    "## Importing Data"
   ]
  },
  {
   "cell_type": "markdown",
   "metadata": {},
   "source": [
    "Now we have an understanding of how our data directory is set up; we will use FastAI amazing [data block API](https://docs.fast.ai/data_block.html) to import data and FastAI [image transformation functions](https://docs.fast.ai/vision.transform.html) to do data augmentation. Let's start by defining what transformation we want to do."
   ]
  },
  {
   "cell_type": "code",
   "execution_count": 7,
   "metadata": {
    "ExecuteTime": {
     "end_time": "2019-01-06T05:09:55.880422Z",
     "start_time": "2019-01-06T05:09:55.848378Z"
    }
   },
   "outputs": [],
   "source": [
    "ds_tfms = get_transforms(do_flip=False, flip_vert=False, max_rotate= 15,max_zoom=1.1, max_lighting=0.2, max_warp=0.2)"
   ]
  },
  {
   "cell_type": "markdown",
   "metadata": {},
   "source": [
    "In **get_transforms** function, we can define all the transformations we want to do. FastAI makes doing data augmentation incredibly easy as all the transformation can be passed in one function and uses an incredibly fast implementation. Let's look at each argument given in the function.\n",
    "\n",
    "- *do_flip=False, flip_vert=False*: We don't want to flip digits in both vertical and horizontal direction as that is not a good idea with digit data. \n",
    "- *max_rotate= 15*: Rotates images randomly while importing by a maximum of 15 degrees in both clockwise and anti-clockwise direction\n",
    "- *max_zoom=1.1*: Zoomin/Zoomout images by 10% of the original image \n",
    "- *max_lighting=0.2*: Random lightning and contrast change controlled by max_lighting will be applied\n",
    "- *max_warp=0.2*: Random symmetric warp of magnitude between -max_warp and +max_warp is applied with probability p_affine which is defaulted to 0.75 in this case.\n",
    "\n",
    "Now that we have defined what transformation we want to do on our input images let's start by defining out data batches or databunch as FastAI will call it. Image data sets are massive in size, so we never want to import the entire dataset in memory, instead of that we define a databunch which will let us load batches of data and do required transformation on the fly."
   ]
  },
  {
   "cell_type": "code",
   "execution_count": 8,
   "metadata": {
    "ExecuteTime": {
     "end_time": "2019-01-06T05:10:05.737395Z",
     "start_time": "2019-01-06T05:09:59.862211Z"
    }
   },
   "outputs": [],
   "source": [
    "data = (ImageItemList.from_folder(path, convert_mode='L')\n",
    "        .split_by_folder(train='training', valid='testing')\n",
    "        .label_from_folder()\n",
    "        .transform(tfms=ds_tfms, size=28)\n",
    "        .databunch(bs=bs))"
   ]
  },
  {
   "cell_type": "markdown",
   "metadata": {},
   "source": [
    "Jeremy Howard calls the above step as **label engineering**, as most of the time and effort is spent on importing data correctly. FastAI's [data block API](https://docs.fast.ai/data_block.html) makes it drastically easy to define how we want to import our data using an R ggplots *'grammar of graphics'* like API where you can keep chaining different functions until you get your data bunch ready. Let's understand what the above code is doing - \n",
    "- *ImageItemList.from_folder(path, convert_mode='L')* - Create an ItemList in path from the filenames that have a suffix in extensions. Convert_mode='L' helps us define that the images we are importing are greyscale/single channel image default is 'RGB' which means a 3 channel image. FastAI uses PIL library so [convert](https://pillow.readthedocs.io/en/3.1.x/reference/Image.html#PIL.Image.Image.convert) is actually a PIL functionality\n",
    "- *split_by_folder(train='training', valid='testing')* : This function is informing databunch that we have train and test data in 'training' and 'testing' subfolders of Path directory \n",
    "- *label_from_folder()* - This function is informing databunch to take labels of digits from their folder name\n",
    "- *transform(tfms=ds_tfms, size=28)* - This function is informing databunch to apply transformation defined in *ds_tfms* variable to each image\n",
    "- *databunch(bs=bs)* - This function converts this databunch into ImageDataBunch class of FastAI with batch size defined in bs variable i.e. 128 in this case.\n",
    "\n",
    "\n",
    "Now we have defined our databunch let's look have a peek at our data. As seen below you can see the digits are imported and visualized using *show_batch* function and notice that these images have our defined transformation applied."
   ]
  },
  {
   "cell_type": "code",
   "execution_count": 9,
   "metadata": {
    "ExecuteTime": {
     "end_time": "2019-01-06T05:10:49.063923Z",
     "start_time": "2019-01-06T05:10:20.506099Z"
    }
   },
   "outputs": [
    {
     "name": "stdout",
     "output_type": "stream",
     "text": [
      "['0', '1', '2', '3', '4', '5', '6', '7', '8', '9']\n",
      "10\n"
     ]
    },
    {
     "data": {
      "image/png": "[encoded data removed]",
      "text/plain": [
       "<Figure size 720x432 with 9 Axes>"
      ]
     },
     "metadata": {
      "needs_background": "light"
     },
     "output_type": "display_data"
    }
   ],
   "source": [
    "print(data.classes) ## Prints class labels\n",
    "print(data.c) ## Prints number of classes\n",
    "data.show_batch(rows=3, figsize=(10,6), hide_axis=False) ## Show sample data"
   ]
  },
  {
   "cell_type": "markdown",
   "metadata": {},
   "source": [
    "## Defining Multilayerperceptron using Pytorch"
   ]
  },
  {
   "cell_type": "markdown",
   "metadata": {},
   "source": [
    "Now we have defined our databunch. Let's define our Multilayer perceptron model using Pytorch. For fully connected layers we used nn.Linear function and to apply non-linearity we use ReLU transformation. In Pytorch, we only need to define the *forward* function, and *backward* function is automatically defined using autograd. If you are new to Pytorch, they provide excellent documentation and tutorials. I would recommend you to go through this [DEEP LEARNING WITH PYTORCH: A 60 MINUTE BLITZ](https://pytorch.org/tutorials/beginner/deep_learning_60min_blitz.html) tutorial, it will cover all the basics needed to understand what's happening below."
   ]
  },
  {
   "cell_type": "code",
   "execution_count": 10,
   "metadata": {
    "ExecuteTime": {
     "end_time": "2019-01-06T05:10:49.117317Z",
     "start_time": "2019-01-06T05:10:49.068497Z"
    }
   },
   "outputs": [],
   "source": [
    "class Mnist_NN(nn.Module):\n",
    "    def __init__(self):\n",
    "        super().__init__()\n",
    "        self.lin1 = nn.Linear(784, 512, bias=True) \n",
    "        self.lin2 = nn.Linear(512, 256, bias=True)\n",
    "        self.lin3 = nn.Linear(256, 10, bias=True)\n",
    "\n",
    "    def forward(self, xb):\n",
    "        x = xb.view(-1,784) ## Equivalent to Flatten in Keras 28*28 -> 784\n",
    "        x = F.relu(self.lin1(x))\n",
    "        x = F.relu(self.lin2(x))\n",
    "        return self.lin3(x)"
   ]
  },
  {
   "cell_type": "markdown",
   "metadata": {},
   "source": [
    "## Training the model"
   ]
  },
  {
   "cell_type": "markdown",
   "metadata": {},
   "source": [
    "So now we have defined our Model, we need to train it. We can use FastAI's *Learner* function which makes it easier to leverage modern enhancement in optimization methods and many other neat tricks like  1-Cycle style training as highlighted in [Leslie Smith's paper](https://arxiv.org/pdf/1803.09820.pdf) for faster convergence. Let's define our Learner class -"
   ]
  },
  {
   "cell_type": "code",
   "execution_count": 11,
   "metadata": {
    "ExecuteTime": {
     "end_time": "2019-01-06T05:10:49.166032Z",
     "start_time": "2019-01-06T05:10:49.120122Z"
    }
   },
   "outputs": [],
   "source": [
    "## Defining the learner\n",
    "mlp_learner = Learner(data=data, model=Mnist_NN(), loss_func=nn.CrossEntropyLoss(),metrics=accuracy)"
   ]
  },
  {
   "cell_type": "markdown",
   "metadata": {},
   "source": [
    "Let's understand what happening by the above arguments-\n",
    "- *data=data* - Passing our Databunch function\n",
    "- *model=Mnist_NN()* - Passing our defined MLP model Mnist_NN\n",
    "- *loss_func=nn.CrossEntropyLoss()* - Defining loss function to optimize, in this case we, are using [cross entropy loss](https://pytorch.org/docs/stable/nn.html?highlight=loss%20crossentropy#torch.nn.CrossEntropyLoss)\n",
    "- *metrics=accuracy* - It's just for printing purposes while training, this argument have nothing to do with training\n",
    "\n",
    "*Learner* class provides provide a great function to find the ideal learning rate to start with while training your Deep learning model. Let's try to find the ideal learning rate."
   ]
  },
  {
   "cell_type": "code",
   "execution_count": 12,
   "metadata": {
    "ExecuteTime": {
     "end_time": "2019-01-06T05:11:06.825883Z",
     "start_time": "2019-01-06T05:10:49.170495Z"
    }
   },
   "outputs": [
    {
     "name": "stdout",
     "output_type": "stream",
     "text": [
      "LR Finder is complete, type {learner_name}.recorder.plot() to see the graph.\n"
     ]
    },
    {
     "data": {
      "image/png": "[encoded data removed]",
      "text/plain": [
       "<Figure size 432x288 with 1 Axes>"
      ]
     },
     "metadata": {
      "needs_background": "light"
     },
     "output_type": "display_data"
    }
   ],
   "source": [
    "## Finidng Ideal learning late\n",
    "mlp_learner.lr_find()\n",
    "mlp_learner.recorder.plot()"
   ]
  },
  {
   "cell_type": "markdown",
   "metadata": {},
   "source": [
    "Ideally, we want to find the point where there is the maximum slope. In this case, that point is 1e-2. So we will start with 1e-2 as our learning rate and do five epochs using a *fit_one_cycle* function which uses a 1-cycle style training approach as highlighted in [Leslie Smith's paper](https://arxiv.org/pdf/1803.09820.pdf) for faster convergence. Also, FastAI shows' [tqdm](https://tqdm.github.io/) style progress bar while training and at the end of training, it starts showing the table which shows the progress of loss functions and metrics we have defined on validation data."
   ]
  },
  {
   "cell_type": "code",
   "execution_count": 13,
   "metadata": {
    "ExecuteTime": {
     "end_time": "2019-01-06T05:13:45.747302Z",
     "start_time": "2019-01-06T05:11:10.402745Z"
    }
   },
   "outputs": [
    {
     "data": {
      "text/html": [
       "Total time: 02:35 <p><table style='width:300px; margin-bottom:10px'>\n",
       "  <tr>\n",
       "    <th>epoch</th>\n",
       "    <th>train_loss</th>\n",
       "    <th>valid_loss</th>\n",
       "    <th>accuracy</th>\n",
       "  </tr>\n",
       "  <tr>\n",
       "    <th>1</th>\n",
       "    <th>0.370591</th>\n",
       "    <th>0.173200</th>\n",
       "    <th>0.945500</th>\n",
       "  </tr>\n",
       "  <tr>\n",
       "    <th>2</th>\n",
       "    <th>0.310725</th>\n",
       "    <th>0.155714</th>\n",
       "    <th>0.953200</th>\n",
       "  </tr>\n",
       "  <tr>\n",
       "    <th>3</th>\n",
       "    <th>0.228229</th>\n",
       "    <th>0.105298</th>\n",
       "    <th>0.970000</th>\n",
       "  </tr>\n",
       "  <tr>\n",
       "    <th>4</th>\n",
       "    <th>0.165711</th>\n",
       "    <th>0.065836</th>\n",
       "    <th>0.979600</th>\n",
       "  </tr>\n",
       "  <tr>\n",
       "    <th>5</th>\n",
       "    <th>0.113575</th>\n",
       "    <th>0.053779</th>\n",
       "    <th>0.983400</th>\n",
       "  </tr>\n",
       "</table>\n"
      ],
      "text/plain": [
       "<IPython.core.display.HTML object>"
      ]
     },
     "metadata": {},
     "output_type": "display_data"
    }
   ],
   "source": [
    "mlp_learner.fit_one_cycle(5,1e-2)"
   ]
  },
  {
   "cell_type": "markdown",
   "metadata": {},
   "source": [
    "Let's lower are learning rate a bit further by lowering the learning rate and train the model a bit more. "
   ]
  },
  {
   "cell_type": "code",
   "execution_count": 14,
   "metadata": {
    "ExecuteTime": {
     "end_time": "2019-01-06T05:15:47.509518Z",
     "start_time": "2019-01-06T05:13:45.751568Z"
    }
   },
   "outputs": [
    {
     "data": {
      "text/html": [
       "Total time: 02:01 <p><table style='width:300px; margin-bottom:10px'>\n",
       "  <tr>\n",
       "    <th>epoch</th>\n",
       "    <th>train_loss</th>\n",
       "    <th>valid_loss</th>\n",
       "    <th>accuracy</th>\n",
       "  </tr>\n",
       "  <tr>\n",
       "    <th>1</th>\n",
       "    <th>0.113720</th>\n",
       "    <th>0.054166</th>\n",
       "    <th>0.983200</th>\n",
       "  </tr>\n",
       "  <tr>\n",
       "    <th>2</th>\n",
       "    <th>0.118278</th>\n",
       "    <th>0.054329</th>\n",
       "    <th>0.982500</th>\n",
       "  </tr>\n",
       "  <tr>\n",
       "    <th>3</th>\n",
       "    <th>0.110958</th>\n",
       "    <th>0.047387</th>\n",
       "    <th>0.985600</th>\n",
       "  </tr>\n",
       "  <tr>\n",
       "    <th>4</th>\n",
       "    <th>0.102580</th>\n",
       "    <th>0.046178</th>\n",
       "    <th>0.986100</th>\n",
       "  </tr>\n",
       "  <tr>\n",
       "    <th>5</th>\n",
       "    <th>0.098291</th>\n",
       "    <th>0.045543</th>\n",
       "    <th>0.986100</th>\n",
       "  </tr>\n",
       "</table>\n"
      ],
      "text/plain": [
       "<IPython.core.display.HTML object>"
      ]
     },
     "metadata": {},
     "output_type": "display_data"
    }
   ],
   "source": [
    "mlp_learner.fit_one_cycle(5,1e-3)"
   ]
  },
  {
   "cell_type": "code",
   "execution_count": 16,
   "metadata": {
    "ExecuteTime": {
     "end_time": "2019-01-06T05:32:40.884703Z",
     "start_time": "2019-01-06T05:32:40.631117Z"
    }
   },
   "outputs": [
    {
     "data": {
      "image/png": "[encoded data removed]",
      "text/plain": [
       "<Figure size 432x288 with 1 Axes>"
      ]
     },
     "metadata": {
      "needs_background": "light"
     },
     "output_type": "display_data"
    }
   ],
   "source": [
    "mlp_learner.recorder.plot_losses()"
   ]
  },
  {
   "cell_type": "markdown",
   "metadata": {
    "ExecuteTime": {
     "end_time": "2019-01-05T23:04:57.198536Z",
     "start_time": "2019-01-05T23:04:56.958310Z"
    }
   },
   "source": [
    "As we can see we are reaching 98.6% accuracy just by using simple Multilayerperceptron."
   ]
  },
  {
   "cell_type": "markdown",
   "metadata": {},
   "source": [
    "## Conclusion"
   ]
  },
  {
   "cell_type": "markdown",
   "metadata": {
    "ExecuteTime": {
     "end_time": "2019-01-05T23:05:50.336748Z",
     "start_time": "2019-01-05T23:05:50.083289Z"
    }
   },
   "source": [
    "Fast.ai is an excellent initiative by [Jeremy Howard](https://twitter.com/jeremyphoward) and his team, and I believe fastai library can genuinely achieve the motive of democratizing deep learning to everyone by making building deep learning models super simple.\n",
    "\n",
    "I hope you enjoyed reading, and feel free to use my code to try it out for your purposes. Also, if there is any feedback on code or just the blog post, feel free to reach out on [LinkedIn](https://www.linkedin.com/in/aayushmnit/) or email me at aayushmnit@gmail.com."
   ]
  }
 ],
 "metadata": {
  "anaconda-cloud": {},
  "kernelspec": {
   "display_name": "Python 3",
   "language": "python",
   "name": "python3"
  },
  "language_info": {
   "codemirror_mode": {
    "name": "ipython",
    "version": 3
   },
   "file_extension": ".py",
   "mimetype": "text/x-python",
   "name": "python",
   "nbconvert_exporter": "python",
   "pygments_lexer": "ipython3",
   "version": "3.7.1"
  },
  "toc": {
   "base_numbering": 1,
   "nav_menu": {},
   "number_sections": true,
   "sideBar": true,
   "skip_h1_title": false,
   "title_cell": "Table of Contents",
   "title_sidebar": "Contents",
   "toc_cell": false,
   "toc_position": {},
   "toc_section_display": true,
   "toc_window_display": false
  }
 },
 "nbformat": 4,
 "nbformat_minor": 2
}
