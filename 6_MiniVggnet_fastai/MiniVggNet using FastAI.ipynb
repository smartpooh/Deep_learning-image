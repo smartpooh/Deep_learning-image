{
 "cells": [
  {
   "cell_type": "markdown",
   "metadata": {
    "heading_collapsed": true
   },
   "source": [
    "## BoilerPlate command"
   ]
  },
  {
   "cell_type": "markdown",
   "metadata": {
    "hidden": true
   },
   "source": [
    "It’s standard practice to start the notebook with the following three lines; they ensure that any edits to libraries you make are reloaded here automatically, and also that any charts or images displayed are shown in this notebook.\n",
    "\n"
   ]
  },
  {
   "cell_type": "code",
   "execution_count": 1,
   "metadata": {
    "ExecuteTime": {
     "end_time": "2019-01-14T06:17:34.755799Z",
     "start_time": "2019-01-14T06:17:34.424141Z"
    },
    "hidden": true
   },
   "outputs": [],
   "source": [
    "%reload_ext autoreload\n",
    "%autoreload 2\n",
    "%matplotlib inline"
   ]
  },
  {
   "cell_type": "markdown",
   "metadata": {
    "heading_collapsed": true
   },
   "source": [
    "## Importing Fast AI library"
   ]
  },
  {
   "cell_type": "markdown",
   "metadata": {
    "hidden": true
   },
   "source": [
    "Let’s import fastai library and define our batch_size parameter to 64. Usually, image databases are enormous, so we need to feed these images into a GPU using batches, batch size 64 means that we will feed 64 images at once to update parameters of our deep learning model. If you are running out of memory because of smaller GPU RAM, you can reduce batch size to 32 or 16."
   ]
  },
  {
   "cell_type": "code",
   "execution_count": 2,
   "metadata": {
    "ExecuteTime": {
     "end_time": "2019-01-14T06:17:39.284931Z",
     "start_time": "2019-01-14T06:17:37.214607Z"
    },
    "hidden": true
   },
   "outputs": [],
   "source": [
    "from fastai.vision import *\n",
    "from minivggnet import *\n",
    "bs=64"
   ]
  },
  {
   "cell_type": "markdown",
   "metadata": {
    "heading_collapsed": true
   },
   "source": [
    "## Downloading Dataset"
   ]
  },
  {
   "cell_type": "markdown",
   "metadata": {
    "hidden": true
   },
   "source": [
    "TO download data CIFAR 10 data use following command"
   ]
  },
  {
   "cell_type": "markdown",
   "metadata": {
    "ExecuteTime": {
     "end_time": "2019-01-13T20:08:05.580594Z",
     "start_time": "2019-01-13T20:08:05.310186Z"
    },
    "hidden": true
   },
   "source": [
    "path = untar_data(URLs.CIFAR);\n",
    "path\n"
   ]
  },
  {
   "cell_type": "markdown",
   "metadata": {
    "hidden": true
   },
   "source": [
    "By running the above command, the data is downloaded and stored in the path shown above. Let's look at how the data directory is set up as we have to import data from these directories. Let's start by looking at path directory, and we can see below that our data already have training and testing folder."
   ]
  },
  {
   "cell_type": "code",
   "execution_count": 3,
   "metadata": {
    "ExecuteTime": {
     "end_time": "2019-01-14T06:17:44.512520Z",
     "start_time": "2019-01-14T06:17:44.374613Z"
    },
    "hidden": true
   },
   "outputs": [],
   "source": [
    "path = Path('../data/cifar10/')"
   ]
  },
  {
   "cell_type": "markdown",
   "metadata": {
    "hidden": true
   },
   "source": [
    "Let's look inside the training folder. Data is split by digits 1 to 9 in a different folder."
   ]
  },
  {
   "cell_type": "code",
   "execution_count": 4,
   "metadata": {
    "ExecuteTime": {
     "end_time": "2019-01-14T06:07:26.495565Z",
     "start_time": "2019-01-14T06:07:26.349629Z"
    },
    "hidden": true
   },
   "outputs": [
    {
     "data": {
      "text/plain": [
       "[WindowsPath('../data/cifar10/labels.txt'),\n",
       " WindowsPath('../data/cifar10/models'),\n",
       " WindowsPath('../data/cifar10/test'),\n",
       " WindowsPath('../data/cifar10/train')]"
      ]
     },
     "execution_count": 4,
     "metadata": {},
     "output_type": "execute_result"
    }
   ],
   "source": [
    "path.ls()"
   ]
  },
  {
   "cell_type": "code",
   "execution_count": 5,
   "metadata": {
    "ExecuteTime": {
     "end_time": "2019-01-14T06:07:29.606220Z",
     "start_time": "2019-01-14T06:07:29.461628Z"
    },
    "hidden": true
   },
   "outputs": [
    {
     "data": {
      "text/plain": [
       "[WindowsPath('../data/cifar10/train/airplane'),\n",
       " WindowsPath('../data/cifar10/train/automobile'),\n",
       " WindowsPath('../data/cifar10/train/bird'),\n",
       " WindowsPath('../data/cifar10/train/cat'),\n",
       " WindowsPath('../data/cifar10/train/deer'),\n",
       " WindowsPath('../data/cifar10/train/dog'),\n",
       " WindowsPath('../data/cifar10/train/frog'),\n",
       " WindowsPath('../data/cifar10/train/horse'),\n",
       " WindowsPath('../data/cifar10/train/ship'),\n",
       " WindowsPath('../data/cifar10/train/truck')]"
      ]
     },
     "execution_count": 5,
     "metadata": {},
     "output_type": "execute_result"
    }
   ],
   "source": [
    "(path/'train').ls()"
   ]
  },
  {
   "cell_type": "markdown",
   "metadata": {
    "ExecuteTime": {
     "end_time": "2019-01-05T21:30:47.870172Z",
     "start_time": "2019-01-05T21:30:47.663154Z"
    },
    "hidden": true
   },
   "source": [
    "Within each digit folder, we have images."
   ]
  },
  {
   "cell_type": "code",
   "execution_count": 6,
   "metadata": {
    "ExecuteTime": {
     "end_time": "2019-01-14T06:07:32.620419Z",
     "start_time": "2019-01-14T06:07:32.461634Z"
    },
    "hidden": true
   },
   "outputs": [
    {
     "data": {
      "text/plain": [
       "[WindowsPath('../data/cifar10/train/airplane/10010_airplane.png'),\n",
       " WindowsPath('../data/cifar10/train/airplane/10020_airplane.png'),\n",
       " WindowsPath('../data/cifar10/train/airplane/10024_airplane.png'),\n",
       " WindowsPath('../data/cifar10/train/airplane/10031_airplane.png')]"
      ]
     },
     "execution_count": 6,
     "metadata": {},
     "output_type": "execute_result"
    }
   ],
   "source": [
    "(path/'train/airplane').ls()[1:5]"
   ]
  },
  {
   "cell_type": "markdown",
   "metadata": {},
   "source": [
    "## Importing Data"
   ]
  },
  {
   "cell_type": "code",
   "execution_count": 4,
   "metadata": {
    "ExecuteTime": {
     "end_time": "2019-01-14T06:17:47.552514Z",
     "start_time": "2019-01-14T06:17:46.782601Z"
    }
   },
   "outputs": [],
   "source": [
    "data = (ImageItemList.from_folder(path)\n",
    "        .split_by_folder(train='train', valid='test')\n",
    "        .label_from_folder()\n",
    "        .transform(tfms=None, size=32)\n",
    "        .databunch(bs=bs))"
   ]
  },
  {
   "cell_type": "code",
   "execution_count": 5,
   "metadata": {
    "ExecuteTime": {
     "end_time": "2019-01-14T06:17:47.985463Z",
     "start_time": "2019-01-14T06:17:47.829900Z"
    }
   },
   "outputs": [
    {
     "data": {
      "text/plain": [
       "LabelList\n",
       "y: CategoryList (50000 items)\n",
       "[Category airplane, Category airplane, Category airplane, Category airplane, Category airplane]...\n",
       "Path: ..\\data\\cifar10\n",
       "x: ImageItemList (50000 items)\n",
       "[Image (3, 32, 32), Image (3, 32, 32), Image (3, 32, 32), Image (3, 32, 32), Image (3, 32, 32)]...\n",
       "Path: ..\\data\\cifar10"
      ]
     },
     "execution_count": 5,
     "metadata": {},
     "output_type": "execute_result"
    }
   ],
   "source": [
    "data.train_ds"
   ]
  },
  {
   "cell_type": "code",
   "execution_count": 6,
   "metadata": {
    "ExecuteTime": {
     "end_time": "2019-01-14T06:17:48.661171Z",
     "start_time": "2019-01-14T06:17:48.518324Z"
    }
   },
   "outputs": [
    {
     "data": {
      "text/plain": [
       "LabelList\n",
       "y: CategoryList (10000 items)\n",
       "[Category airplane, Category airplane, Category airplane, Category airplane, Category airplane]...\n",
       "Path: ..\\data\\cifar10\n",
       "x: ImageItemList (10000 items)\n",
       "[Image (3, 32, 32), Image (3, 32, 32), Image (3, 32, 32), Image (3, 32, 32), Image (3, 32, 32)]...\n",
       "Path: ..\\data\\cifar10"
      ]
     },
     "execution_count": 6,
     "metadata": {},
     "output_type": "execute_result"
    }
   ],
   "source": [
    "data.valid_ds"
   ]
  },
  {
   "cell_type": "code",
   "execution_count": 7,
   "metadata": {
    "ExecuteTime": {
     "end_time": "2019-01-14T06:18:20.233863Z",
     "start_time": "2019-01-14T06:17:49.830390Z"
    }
   },
   "outputs": [
    {
     "name": "stdout",
     "output_type": "stream",
     "text": [
      "['airplane', 'automobile', 'bird', 'cat', 'deer', 'dog', 'frog', 'horse', 'ship', 'truck']\n",
      "10\n"
     ]
    },
    {
     "data": {
      "image/png": "[encoded data removed]",
      "text/plain": [
       "<Figure size 720x432 with 16 Axes>"
      ]
     },
     "metadata": {
      "needs_background": "light"
     },
     "output_type": "display_data"
    }
   ],
   "source": [
    "print(data.classes) ## Prints class labels\n",
    "print(data.c) ## Prints number of classes\n",
    "data.show_batch(rows=4, figsize=(10,6), hide_axis=False) ## Show sample data"
   ]
  },
  {
   "cell_type": "markdown",
   "metadata": {
    "heading_collapsed": true
   },
   "source": [
    "## About the model"
   ]
  },
  {
   "cell_type": "markdown",
   "metadata": {
    "hidden": true
   },
   "source": [
    "Minivggnet is just a smaller version of VGG family of model which contains all the key elements to build an actual VGG model. It's just miniature version which can do reasonably well without requiring a lot of compute time. The model is having following architecture -\n",
    "\n",
    "((CONV=>ACT=>BN)x2 =>POOL=>DO)x2=>FC=>ACT=>DO=>FC=>SOFTMAX\n",
    "\n",
    "Glossary-\n",
    "- CONV -> Convolution with kernel size 3x3 with same padding\n",
    "- ACT -> ReLU Activation\n",
    "- BN -> Batch Normalization\n",
    "- DO -> Dropout\n",
    "- Pool -> Max pooling with size 2x2\n",
    "- FC -> Fully connected layer"
   ]
  },
  {
   "cell_type": "markdown",
   "metadata": {},
   "source": [
    "## Training the model"
   ]
  },
  {
   "cell_type": "markdown",
   "metadata": {},
   "source": [
    "We have defined our shallownet model in shallownet.py file, now we need to train it. We can use FastAI's *Learner* function which makes it easier to leverage modern enhancement in optimization methods and many other neat tricks like  1-Cycle style training as highlighted in [Leslie Smith's paper](https://arxiv.org/pdf/1803.09820.pdf) for faster convergence. Let's define our Learner class -"
   ]
  },
  {
   "cell_type": "code",
   "execution_count": 11,
   "metadata": {
    "ExecuteTime": {
     "end_time": "2019-01-14T06:19:57.510916Z",
     "start_time": "2019-01-14T06:19:57.103126Z"
    }
   },
   "outputs": [],
   "source": [
    "## Defining the learner\n",
    "minivgg_learner = Learner(data=data, \n",
    "                          model=MiniVGGNet(batch_norm=True, size=32, n_class=data.c), \n",
    "                          loss_func=nn.CrossEntropyLoss(),\n",
    "                          metrics=accuracy)"
   ]
  },
  {
   "cell_type": "code",
   "execution_count": 12,
   "metadata": {
    "ExecuteTime": {
     "end_time": "2019-01-14T06:20:23.875955Z",
     "start_time": "2019-01-14T06:19:58.094830Z"
    }
   },
   "outputs": [
    {
     "name": "stdout",
     "output_type": "stream",
     "text": [
      "======================================================================\n",
      "Layer (type)         Output Shape         Param #    Trainable \n",
      "======================================================================\n",
      "Conv2d               [64, 32, 32, 32]     896        True      \n",
      "______________________________________________________________________\n",
      "ReLU                 [64, 32, 32, 32]     0          False     \n",
      "______________________________________________________________________\n",
      "BatchNorm2d          [64, 32, 32, 32]     64         True      \n",
      "______________________________________________________________________\n",
      "Conv2d               [64, 32, 32, 32]     9248       True      \n",
      "______________________________________________________________________\n",
      "ReLU                 [64, 32, 32, 32]     0          False     \n",
      "______________________________________________________________________\n",
      "BatchNorm2d          [64, 32, 32, 32]     64         True      \n",
      "______________________________________________________________________\n",
      "MaxPool2d            [64, 32, 16, 16]     0          False     \n",
      "______________________________________________________________________\n",
      "Dropout              [64, 32, 16, 16]     0          False     \n",
      "______________________________________________________________________\n",
      "Conv2d               [64, 64, 16, 16]     18496      True      \n",
      "______________________________________________________________________\n",
      "ReLU                 [64, 64, 16, 16]     0          False     \n",
      "______________________________________________________________________\n",
      "BatchNorm2d          [64, 64, 16, 16]     128        True      \n",
      "______________________________________________________________________\n",
      "Conv2d               [64, 64, 16, 16]     36928      True      \n",
      "______________________________________________________________________\n",
      "ReLU                 [64, 64, 16, 16]     0          False     \n",
      "______________________________________________________________________\n",
      "BatchNorm2d          [64, 64, 16, 16]     128        True      \n",
      "______________________________________________________________________\n",
      "MaxPool2d            [64, 64, 8, 8]       0          False     \n",
      "______________________________________________________________________\n",
      "Dropout              [64, 64, 8, 8]       0          False     \n",
      "______________________________________________________________________\n",
      "Linear               [64, 512]            2097664    True      \n",
      "______________________________________________________________________\n",
      "ReLU                 [64, 512]            0          False     \n",
      "______________________________________________________________________\n",
      "Dropout              [64, 512]            0          False     \n",
      "______________________________________________________________________\n",
      "Linear               [64, 10]             5130       True      \n",
      "______________________________________________________________________\n",
      "\n",
      "Total params:  2168746\n",
      "Total trainable params:  2168746\n",
      "Total non-trainable params:  0\n"
     ]
    }
   ],
   "source": [
    "minivgg_learner.summary()"
   ]
  },
  {
   "cell_type": "code",
   "execution_count": 13,
   "metadata": {
    "ExecuteTime": {
     "end_time": "2019-01-14T06:21:06.662040Z",
     "start_time": "2019-01-14T06:20:36.966857Z"
    }
   },
   "outputs": [
    {
     "name": "stdout",
     "output_type": "stream",
     "text": [
      "LR Finder is complete, type {learner_name}.recorder.plot() to see the graph.\n"
     ]
    },
    {
     "data": {
      "image/png": "[encoded data removed]",
      "text/plain": [
       "<Figure size 432x288 with 1 Axes>"
      ]
     },
     "metadata": {
      "needs_background": "light"
     },
     "output_type": "display_data"
    }
   ],
   "source": [
    "## Finidng Ideal learning late\n",
    "minivgg_learner.lr_find()\n",
    "minivgg_learner.recorder.plot()"
   ]
  },
  {
   "cell_type": "code",
   "execution_count": 15,
   "metadata": {
    "ExecuteTime": {
     "end_time": "2019-01-14T06:28:45.925286Z",
     "start_time": "2019-01-14T06:22:21.510891Z"
    }
   },
   "outputs": [
    {
     "data": {
      "text/html": [
       "Total time: 06:24 <p><table style='width:300px; margin-bottom:10px'>\n",
       "  <tr>\n",
       "    <th>epoch</th>\n",
       "    <th>train_loss</th>\n",
       "    <th>valid_loss</th>\n",
       "    <th>accuracy</th>\n",
       "  </tr>\n",
       "  <tr>\n",
       "    <th>1</th>\n",
       "    <th>1.213189</th>\n",
       "    <th>1.092167</th>\n",
       "    <th>0.614800</th>\n",
       "  </tr>\n",
       "  <tr>\n",
       "    <th>2</th>\n",
       "    <th>0.924720</th>\n",
       "    <th>0.841663</th>\n",
       "    <th>0.704400</th>\n",
       "  </tr>\n",
       "  <tr>\n",
       "    <th>3</th>\n",
       "    <th>0.750805</th>\n",
       "    <th>0.767476</th>\n",
       "    <th>0.738900</th>\n",
       "  </tr>\n",
       "  <tr>\n",
       "    <th>4</th>\n",
       "    <th>0.578265</th>\n",
       "    <th>0.578782</th>\n",
       "    <th>0.804000</th>\n",
       "  </tr>\n",
       "  <tr>\n",
       "    <th>5</th>\n",
       "    <th>0.471615</th>\n",
       "    <th>0.569754</th>\n",
       "    <th>0.807700</th>\n",
       "  </tr>\n",
       "</table>\n"
      ],
      "text/plain": [
       "<IPython.core.display.HTML object>"
      ]
     },
     "metadata": {},
     "output_type": "display_data"
    }
   ],
   "source": [
    "minivgg_learner.fit_one_cycle(10,1e-3)"
   ]
  },
  {
   "cell_type": "code",
   "execution_count": 17,
   "metadata": {
    "ExecuteTime": {
     "end_time": "2019-01-14T06:29:58.766893Z",
     "start_time": "2019-01-14T06:29:30.432014Z"
    }
   },
   "outputs": [
    {
     "name": "stdout",
     "output_type": "stream",
     "text": [
      "LR Finder is complete, type {learner_name}.recorder.plot() to see the graph.\n"
     ]
    },
    {
     "data": {
      "image/png": "[encoded data removed]",
      "text/plain": [
       "<Figure size 432x288 with 1 Axes>"
      ]
     },
     "metadata": {
      "needs_background": "light"
     },
     "output_type": "display_data"
    }
   ],
   "source": [
    "## Finidng Ideal learning late\n",
    "minivgg_learner.lr_find()\n",
    "minivgg_learner.recorder.plot()"
   ]
  },
  {
   "cell_type": "code",
   "execution_count": 18,
   "metadata": {
    "ExecuteTime": {
     "end_time": "2019-01-14T06:36:46.897359Z",
     "start_time": "2019-01-14T06:30:13.527187Z"
    }
   },
   "outputs": [
    {
     "data": {
      "text/html": [
       "Total time: 06:33 <p><table style='width:300px; margin-bottom:10px'>\n",
       "  <tr>\n",
       "    <th>epoch</th>\n",
       "    <th>train_loss</th>\n",
       "    <th>valid_loss</th>\n",
       "    <th>accuracy</th>\n",
       "  </tr>\n",
       "  <tr>\n",
       "    <th>1</th>\n",
       "    <th>0.445613</th>\n",
       "    <th>0.563316</th>\n",
       "    <th>0.810200</th>\n",
       "  </tr>\n",
       "  <tr>\n",
       "    <th>2</th>\n",
       "    <th>0.449382</th>\n",
       "    <th>0.564051</th>\n",
       "    <th>0.808400</th>\n",
       "  </tr>\n",
       "  <tr>\n",
       "    <th>3</th>\n",
       "    <th>0.445852</th>\n",
       "    <th>0.563414</th>\n",
       "    <th>0.809800</th>\n",
       "  </tr>\n",
       "  <tr>\n",
       "    <th>4</th>\n",
       "    <th>0.430402</th>\n",
       "    <th>0.561455</th>\n",
       "    <th>0.811100</th>\n",
       "  </tr>\n",
       "  <tr>\n",
       "    <th>5</th>\n",
       "    <th>0.438141</th>\n",
       "    <th>0.561199</th>\n",
       "    <th>0.810200</th>\n",
       "  </tr>\n",
       "</table>\n"
      ],
      "text/plain": [
       "<IPython.core.display.HTML object>"
      ]
     },
     "metadata": {},
     "output_type": "display_data"
    }
   ],
   "source": [
    "minivgg_learner.fit_one_cycle(5,1e-5)"
   ]
  },
  {
   "cell_type": "code",
   "execution_count": 15,
   "metadata": {
    "ExecuteTime": {
     "end_time": "2019-01-13T20:57:00.055850Z",
     "start_time": "2019-01-13T20:56:38.109948Z"
    }
   },
   "outputs": [
    {
     "name": "stdout",
     "output_type": "stream",
     "text": [
      "              precision    recall  f1-score   support\n",
      "\n",
      "           0       0.60      0.59      0.60      1000\n",
      "           1       0.67      0.68      0.67      1000\n",
      "           2       0.39      0.39      0.39      1000\n",
      "           3       0.38      0.35      0.36      1000\n",
      "           4       0.47      0.48      0.48      1000\n",
      "           5       0.42      0.43      0.42      1000\n",
      "           6       0.63      0.66      0.64      1000\n",
      "           7       0.62      0.58      0.60      1000\n",
      "           8       0.68      0.69      0.68      1000\n",
      "           9       0.64      0.62      0.63      1000\n",
      "\n",
      "   micro avg       0.55      0.55      0.55     10000\n",
      "   macro avg       0.55      0.55      0.55     10000\n",
      "weighted avg       0.55      0.55      0.55     10000\n",
      "\n"
     ]
    }
   ],
   "source": [
    "from sklearn.metrics import classification_report\n",
    "interp = ClassificationInterpretation.from_learner(sn_learner)\n",
    "print(classification_report(interp.y_true,interp.pred_class))"
   ]
  },
  {
   "cell_type": "markdown",
   "metadata": {
    "ExecuteTime": {
     "end_time": "2019-01-05T23:04:57.198536Z",
     "start_time": "2019-01-05T23:04:56.958310Z"
    }
   },
   "source": [
    "As we can see we are reaching 81% accuracy just by using simple MiniVggnet as compared to 10% if we have picked classes at random."
   ]
  }
 ],
 "metadata": {
  "anaconda-cloud": {},
  "kernelspec": {
   "display_name": "Python 3",
   "language": "python",
   "name": "python3"
  },
  "language_info": {
   "codemirror_mode": {
    "name": "ipython",
    "version": 3
   },
   "file_extension": ".py",
   "mimetype": "text/x-python",
   "name": "python",
   "nbconvert_exporter": "python",
   "pygments_lexer": "ipython3",
   "version": "3.7.1"
  },
  "toc": {
   "base_numbering": 1,
   "nav_menu": {},
   "number_sections": true,
   "sideBar": true,
   "skip_h1_title": false,
   "title_cell": "Table of Contents",
   "title_sidebar": "Contents",
   "toc_cell": false,
   "toc_position": {},
   "toc_section_display": true,
   "toc_window_display": false
  }
 },
 "nbformat": 4,
 "nbformat_minor": 2
}
