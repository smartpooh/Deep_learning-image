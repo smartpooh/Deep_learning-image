{
 "cells": [
  {
   "cell_type": "markdown",
   "metadata": {
    "heading_collapsed": true
   },
   "source": [
    "## BoilerPlate command"
   ]
  },
  {
   "cell_type": "markdown",
   "metadata": {
    "hidden": true
   },
   "source": [
    "It’s standard practice to start the notebook with the following three lines; they ensure that any edits to libraries you make are reloaded here automatically, and also that any charts or images displayed are shown in this notebook.\n",
    "\n"
   ]
  },
  {
   "cell_type": "code",
   "execution_count": 1,
   "metadata": {
    "ExecuteTime": {
     "end_time": "2019-01-13T21:42:57.577045Z",
     "start_time": "2019-01-13T21:42:57.260512Z"
    },
    "hidden": true
   },
   "outputs": [],
   "source": [
    "%reload_ext autoreload\n",
    "%autoreload 2\n",
    "%matplotlib inline"
   ]
  },
  {
   "cell_type": "markdown",
   "metadata": {
    "heading_collapsed": true
   },
   "source": [
    "## Importing Fast AI library"
   ]
  },
  {
   "cell_type": "markdown",
   "metadata": {
    "hidden": true
   },
   "source": [
    "Let’s import fastai library and define our batch_size parameter to 64. Usually, image databases are enormous, so we need to feed these images into a GPU using batches, batch size 16428 means that we will feed 64 images at once to update parameters of our deep learning model. If you are running out of memory because of smaller GPU RAM, you can reduce batch size to 32 or 16."
   ]
  },
  {
   "cell_type": "code",
   "execution_count": 2,
   "metadata": {
    "ExecuteTime": {
     "end_time": "2019-01-13T21:43:02.536543Z",
     "start_time": "2019-01-13T21:43:00.579995Z"
    },
    "hidden": true
   },
   "outputs": [],
   "source": [
    "from fastai.vision import *\n",
    "from lenet import *\n",
    "bs=64"
   ]
  },
  {
   "cell_type": "markdown",
   "metadata": {
    "heading_collapsed": true
   },
   "source": [
    "## Downloading Dataset"
   ]
  },
  {
   "cell_type": "markdown",
   "metadata": {
    "hidden": true
   },
   "source": [
    "TO download MNIST data use following command"
   ]
  },
  {
   "cell_type": "markdown",
   "metadata": {
    "ExecuteTime": {
     "end_time": "2019-01-13T20:08:05.580594Z",
     "start_time": "2019-01-13T20:08:05.310186Z"
    },
    "hidden": true
   },
   "source": [
    "path = untar_data(URLs.MNIST);\n",
    "path"
   ]
  },
  {
   "cell_type": "markdown",
   "metadata": {
    "hidden": true
   },
   "source": [
    "By running the above command, the data is downloaded and stored in the path shown above. Let's look at how the data directory is set up as we have to import data from these directories. Let's start by looking at path directory, and we can see below that our data already have training and testing folder."
   ]
  },
  {
   "cell_type": "code",
   "execution_count": 3,
   "metadata": {
    "ExecuteTime": {
     "end_time": "2019-01-13T21:43:12.600463Z",
     "start_time": "2019-01-13T21:43:12.438187Z"
    },
    "hidden": true
   },
   "outputs": [],
   "source": [
    "path = Path('../data/mnist_png/')"
   ]
  },
  {
   "cell_type": "markdown",
   "metadata": {
    "hidden": true
   },
   "source": [
    "Let's look inside the training folder. Data is split by digits 1 to 9 in a different folder."
   ]
  },
  {
   "cell_type": "code",
   "execution_count": 4,
   "metadata": {
    "ExecuteTime": {
     "end_time": "2019-01-13T21:43:13.869006Z",
     "start_time": "2019-01-13T21:43:13.731911Z"
    },
    "hidden": true
   },
   "outputs": [
    {
     "data": {
      "text/plain": [
       "[WindowsPath('../data/mnist_png/models'),\n",
       " WindowsPath('../data/mnist_png/testing'),\n",
       " WindowsPath('../data/mnist_png/training')]"
      ]
     },
     "execution_count": 4,
     "metadata": {},
     "output_type": "execute_result"
    }
   ],
   "source": [
    "path.ls()"
   ]
  },
  {
   "cell_type": "code",
   "execution_count": 5,
   "metadata": {
    "ExecuteTime": {
     "end_time": "2019-01-13T21:43:19.412610Z",
     "start_time": "2019-01-13T21:43:19.268175Z"
    },
    "hidden": true
   },
   "outputs": [
    {
     "data": {
      "text/plain": [
       "[WindowsPath('../data/mnist_png/training/0'),\n",
       " WindowsPath('../data/mnist_png/training/1'),\n",
       " WindowsPath('../data/mnist_png/training/2'),\n",
       " WindowsPath('../data/mnist_png/training/3'),\n",
       " WindowsPath('../data/mnist_png/training/4'),\n",
       " WindowsPath('../data/mnist_png/training/5'),\n",
       " WindowsPath('../data/mnist_png/training/6'),\n",
       " WindowsPath('../data/mnist_png/training/7'),\n",
       " WindowsPath('../data/mnist_png/training/8'),\n",
       " WindowsPath('../data/mnist_png/training/9')]"
      ]
     },
     "execution_count": 5,
     "metadata": {},
     "output_type": "execute_result"
    }
   ],
   "source": [
    "(path/'training').ls()"
   ]
  },
  {
   "cell_type": "markdown",
   "metadata": {
    "ExecuteTime": {
     "end_time": "2019-01-05T21:30:47.870172Z",
     "start_time": "2019-01-05T21:30:47.663154Z"
    },
    "hidden": true
   },
   "source": [
    "Within each digit folder, we have images."
   ]
  },
  {
   "cell_type": "code",
   "execution_count": 6,
   "metadata": {
    "ExecuteTime": {
     "end_time": "2019-01-13T21:43:28.785336Z",
     "start_time": "2019-01-13T21:43:28.628373Z"
    },
    "hidden": true
   },
   "outputs": [
    {
     "data": {
      "text/plain": [
       "[WindowsPath('../data/mnist_png/training/0/1000.png'),\n",
       " WindowsPath('../data/mnist_png/training/0/10005.png'),\n",
       " WindowsPath('../data/mnist_png/training/0/10010.png'),\n",
       " WindowsPath('../data/mnist_png/training/0/10022.png')]"
      ]
     },
     "execution_count": 6,
     "metadata": {},
     "output_type": "execute_result"
    }
   ],
   "source": [
    "(path/'training/0').ls()[1:5]"
   ]
  },
  {
   "cell_type": "markdown",
   "metadata": {},
   "source": [
    "## Importing Data"
   ]
  },
  {
   "cell_type": "code",
   "execution_count": 7,
   "metadata": {
    "ExecuteTime": {
     "end_time": "2019-01-13T21:43:56.541987Z",
     "start_time": "2019-01-13T21:43:55.612997Z"
    }
   },
   "outputs": [],
   "source": [
    "ds_tfms = get_transforms(do_flip=False, flip_vert=False, max_rotate= 15,max_zoom=1.1, max_lighting=0.2, max_warp=0.2)\n",
    "\n",
    "data = (ImageItemList.from_folder(path, convert_mode='L')\n",
    "        .split_by_folder(train='training', valid='testing')\n",
    "        .label_from_folder()\n",
    "        .transform(tfms=ds_tfms, size=28)\n",
    "        .databunch(bs=bs))"
   ]
  },
  {
   "cell_type": "code",
   "execution_count": 8,
   "metadata": {
    "ExecuteTime": {
     "end_time": "2019-01-13T21:43:56.913398Z",
     "start_time": "2019-01-13T21:43:56.747777Z"
    }
   },
   "outputs": [
    {
     "data": {
      "text/plain": [
       "LabelList\n",
       "y: CategoryList (60000 items)\n",
       "[Category 0, Category 0, Category 0, Category 0, Category 0]...\n",
       "Path: ..\\data\\mnist_png\n",
       "x: ImageItemList (60000 items)\n",
       "[Image (1, 28, 28), Image (1, 28, 28), Image (1, 28, 28), Image (1, 28, 28), Image (1, 28, 28)]...\n",
       "Path: ..\\data\\mnist_png"
      ]
     },
     "execution_count": 8,
     "metadata": {},
     "output_type": "execute_result"
    }
   ],
   "source": [
    "data.train_ds"
   ]
  },
  {
   "cell_type": "code",
   "execution_count": 9,
   "metadata": {
    "ExecuteTime": {
     "end_time": "2019-01-13T21:43:58.216175Z",
     "start_time": "2019-01-13T21:43:58.069384Z"
    }
   },
   "outputs": [
    {
     "data": {
      "text/plain": [
       "LabelList\n",
       "y: CategoryList (10000 items)\n",
       "[Category 0, Category 0, Category 0, Category 0, Category 0]...\n",
       "Path: ..\\data\\mnist_png\n",
       "x: ImageItemList (10000 items)\n",
       "[Image (1, 28, 28), Image (1, 28, 28), Image (1, 28, 28), Image (1, 28, 28), Image (1, 28, 28)]...\n",
       "Path: ..\\data\\mnist_png"
      ]
     },
     "execution_count": 9,
     "metadata": {},
     "output_type": "execute_result"
    }
   ],
   "source": [
    "data.valid_ds"
   ]
  },
  {
   "cell_type": "code",
   "execution_count": 10,
   "metadata": {
    "ExecuteTime": {
     "end_time": "2019-01-13T21:44:31.088325Z",
     "start_time": "2019-01-13T21:44:00.420197Z"
    }
   },
   "outputs": [
    {
     "name": "stdout",
     "output_type": "stream",
     "text": [
      "['0', '1', '2', '3', '4', '5', '6', '7', '8', '9']\n",
      "10\n"
     ]
    },
    {
     "data": {
      "image/png": "[encoded data removed]",
      "text/plain": [
       "<Figure size 720x432 with 16 Axes>"
      ]
     },
     "metadata": {
      "needs_background": "light"
     },
     "output_type": "display_data"
    }
   ],
   "source": [
    "print(data.classes) ## Prints class labels\n",
    "print(data.c) ## Prints number of classes\n",
    "data.show_batch(rows=4, figsize=(10,6), hide_axis=False) ## Show sample data"
   ]
  },
  {
   "cell_type": "markdown",
   "metadata": {},
   "source": [
    "## About the model"
   ]
  },
  {
   "cell_type": "markdown",
   "metadata": {},
   "source": [
    "LeNet architecture was first introduced by first introduced by LeCun et al. in their 1998 paper, Gradient-Based Learning Applied to Document Recognition. LeNet is quite a simple architecture as represented in image below.\n",
    "<img src=\"https://blog.dataiku.com/hs-fs/hubfs/Dataiku%20Dec%202016/Image/le_net.png?width=620&name=le_net.png\">\n",
    "\n",
    "The architecture can represented by following notation - \n",
    "\n",
    "(CONV=>RELU=>POOL)*2 => (FC=>RELU) => FC=>SOFTMAX"
   ]
  },
  {
   "cell_type": "markdown",
   "metadata": {},
   "source": [
    "## Training the model"
   ]
  },
  {
   "cell_type": "markdown",
   "metadata": {},
   "source": [
    "We have defined our shallownet model in lenet.py file, now we need to train it. We can use FastAI's *Learner* function which makes it easier to leverage modern enhancement in optimization methods and many other neat tricks like  1-Cycle style training as highlighted in [Leslie Smith's paper](https://arxiv.org/pdf/1803.09820.pdf) for faster convergence. Let's define our Learner class -"
   ]
  },
  {
   "cell_type": "code",
   "execution_count": 27,
   "metadata": {
    "ExecuteTime": {
     "end_time": "2019-01-13T22:11:17.860410Z",
     "start_time": "2019-01-13T22:11:17.447753Z"
    }
   },
   "outputs": [],
   "source": [
    "## Defining the learner\n",
    "lenet_learner = Learner(data=data, \n",
    "                      model=LeNet(n_class=data.c, \n",
    "                                       size=28, \n",
    "                                       in_channels=1), \n",
    "                      loss_func=nn.CrossEntropyLoss(),\n",
    "                      metrics=accuracy)"
   ]
  },
  {
   "cell_type": "code",
   "execution_count": 28,
   "metadata": {
    "ExecuteTime": {
     "end_time": "2019-01-13T22:11:45.052342Z",
     "start_time": "2019-01-13T22:11:18.567622Z"
    }
   },
   "outputs": [
    {
     "name": "stdout",
     "output_type": "stream",
     "text": [
      "======================================================================\n",
      "Layer (type)         Output Shape         Param #    Trainable \n",
      "======================================================================\n",
      "Conv2d               [64, 20, 28, 28]     520        True      \n",
      "______________________________________________________________________\n",
      "Conv2d               [64, 50, 14, 14]     25050      True      \n",
      "______________________________________________________________________\n",
      "Linear               [64, 500]            1225500    True      \n",
      "______________________________________________________________________\n",
      "Linear               [64, 10]             5010       True      \n",
      "______________________________________________________________________\n",
      "\n",
      "Total params:  1256080\n",
      "Total trainable params:  1256080\n",
      "Total non-trainable params:  0\n"
     ]
    }
   ],
   "source": [
    "lenet_learner.summary()"
   ]
  },
  {
   "cell_type": "code",
   "execution_count": 29,
   "metadata": {
    "ExecuteTime": {
     "end_time": "2019-01-13T22:12:32.318546Z",
     "start_time": "2019-01-13T22:11:59.750006Z"
    }
   },
   "outputs": [
    {
     "name": "stdout",
     "output_type": "stream",
     "text": [
      "LR Finder is complete, type {learner_name}.recorder.plot() to see the graph.\n"
     ]
    },
    {
     "data": {
      "image/png": "[encoded data removed]",
      "text/plain": [
       "<Figure size 432x288 with 1 Axes>"
      ]
     },
     "metadata": {
      "needs_background": "light"
     },
     "output_type": "display_data"
    }
   ],
   "source": [
    "## Finidng Ideal learning late\n",
    "lenet_learner.lr_find()\n",
    "lenet_learner.recorder.plot()"
   ]
  },
  {
   "cell_type": "code",
   "execution_count": 30,
   "metadata": {
    "ExecuteTime": {
     "end_time": "2019-01-13T22:19:00.602739Z",
     "start_time": "2019-01-13T22:12:39.486071Z"
    }
   },
   "outputs": [
    {
     "data": {
      "text/html": [
       "Total time: 06:20 <p><table style='width:300px; margin-bottom:10px'>\n",
       "  <tr>\n",
       "    <th>epoch</th>\n",
       "    <th>train_loss</th>\n",
       "    <th>valid_loss</th>\n",
       "    <th>accuracy</th>\n",
       "  </tr>\n",
       "  <tr>\n",
       "    <th>1</th>\n",
       "    <th>0.147864</th>\n",
       "    <th>0.089359</th>\n",
       "    <th>0.971400</th>\n",
       "  </tr>\n",
       "  <tr>\n",
       "    <th>2</th>\n",
       "    <th>0.117830</th>\n",
       "    <th>0.075181</th>\n",
       "    <th>0.978500</th>\n",
       "  </tr>\n",
       "  <tr>\n",
       "    <th>3</th>\n",
       "    <th>0.093218</th>\n",
       "    <th>0.040102</th>\n",
       "    <th>0.988000</th>\n",
       "  </tr>\n",
       "  <tr>\n",
       "    <th>4</th>\n",
       "    <th>0.050197</th>\n",
       "    <th>0.023681</th>\n",
       "    <th>0.992000</th>\n",
       "  </tr>\n",
       "  <tr>\n",
       "    <th>5</th>\n",
       "    <th>0.041383</th>\n",
       "    <th>0.022327</th>\n",
       "    <th>0.993400</th>\n",
       "  </tr>\n",
       "</table>\n"
      ],
      "text/plain": [
       "<IPython.core.display.HTML object>"
      ]
     },
     "metadata": {},
     "output_type": "display_data"
    }
   ],
   "source": [
    "lenet_learner.fit_one_cycle(5,1e-2)"
   ]
  },
  {
   "cell_type": "code",
   "execution_count": 32,
   "metadata": {
    "ExecuteTime": {
     "end_time": "2019-01-13T22:19:18.905245Z",
     "start_time": "2019-01-13T22:19:18.606539Z"
    }
   },
   "outputs": [
    {
     "data": {
      "image/png": "[encoded data removed]",
      "text/plain": [
       "<Figure size 432x288 with 1 Axes>"
      ]
     },
     "metadata": {
      "needs_background": "light"
     },
     "output_type": "display_data"
    }
   ],
   "source": [
    "lenet_learner.recorder.plot_losses()"
   ]
  },
  {
   "cell_type": "code",
   "execution_count": 33,
   "metadata": {
    "ExecuteTime": {
     "end_time": "2019-01-13T22:19:51.577822Z",
     "start_time": "2019-01-13T22:19:27.870887Z"
    }
   },
   "outputs": [
    {
     "name": "stdout",
     "output_type": "stream",
     "text": [
      "              precision    recall  f1-score   support\n",
      "\n",
      "           0       1.00      0.99      1.00       980\n",
      "           1       1.00      1.00      1.00      1135\n",
      "           2       1.00      0.99      0.99      1032\n",
      "           3       0.99      1.00      0.99      1010\n",
      "           4       0.99      1.00      0.99       982\n",
      "           5       0.99      0.99      0.99       892\n",
      "           6       1.00      0.99      0.99       958\n",
      "           7       0.99      1.00      0.99      1028\n",
      "           8       0.99      1.00      0.99       974\n",
      "           9       0.99      0.98      0.99      1009\n",
      "\n",
      "   micro avg       0.99      0.99      0.99     10000\n",
      "   macro avg       0.99      0.99      0.99     10000\n",
      "weighted avg       0.99      0.99      0.99     10000\n",
      "\n"
     ]
    }
   ],
   "source": [
    "from sklearn.metrics import classification_report\n",
    "interp = ClassificationInterpretation.from_learner(lenet_learner)\n",
    "print(classification_report(interp.y_true,interp.pred_class))"
   ]
  },
  {
   "cell_type": "markdown",
   "metadata": {
    "ExecuteTime": {
     "end_time": "2019-01-05T23:04:57.198536Z",
     "start_time": "2019-01-05T23:04:56.958310Z"
    }
   },
   "source": [
    "As we can see we are reached 99.3% accuracy just by running LeNet for 5 epochs. Convolutional neural networks are really ground breaking."
   ]
  },
  {
   "cell_type": "code",
   "execution_count": 37,
   "metadata": {
    "ExecuteTime": {
     "end_time": "2019-01-13T22:21:24.946285Z",
     "start_time": "2019-01-13T22:21:24.470842Z"
    }
   },
   "outputs": [
    {
     "data": {
      "image/png": "[encoded data removed]",
      "text/plain": [
       "<Figure size 360x360 with 9 Axes>"
      ]
     },
     "metadata": {
      "needs_background": "light"
     },
     "output_type": "display_data"
    }
   ],
   "source": [
    "## Plotting Top losses\n",
    "interp.plot_top_losses(9,figsize=(5,5))"
   ]
  },
  {
   "cell_type": "markdown",
   "metadata": {},
   "source": [
    "As we can see that all of these cases are really difficult even by human inference."
   ]
  }
 ],
 "metadata": {
  "anaconda-cloud": {},
  "kernelspec": {
   "display_name": "Python 3",
   "language": "python",
   "name": "python3"
  },
  "language_info": {
   "codemirror_mode": {
    "name": "ipython",
    "version": 3
   },
   "file_extension": ".py",
   "mimetype": "text/x-python",
   "name": "python",
   "nbconvert_exporter": "python",
   "pygments_lexer": "ipython3",
   "version": "3.7.1"
  },
  "toc": {
   "base_numbering": 1,
   "nav_menu": {},
   "number_sections": true,
   "sideBar": true,
   "skip_h1_title": false,
   "title_cell": "Table of Contents",
   "title_sidebar": "Contents",
   "toc_cell": false,
   "toc_position": {},
   "toc_section_display": true,
   "toc_window_display": false
  }
 },
 "nbformat": 4,
 "nbformat_minor": 2
}
